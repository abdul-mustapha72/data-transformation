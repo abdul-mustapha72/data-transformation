{
 "cells": [
  {
   "cell_type": "code",
   "execution_count": 1,
   "id": "1c5bcc68",
   "metadata": {},
   "outputs": [],
   "source": [
    "#import panda library\n",
    "\n",
    "import pandas as pd\n",
    "\n",
    "# Load CSV file into a DataFrame\n",
    "input_csv_file = r'C:\\Users\\ZETTT\\Documents\\testfile.csv' \n",
    "df = pd.read_csv(input_csv_file)\n",
    "\n",
    "# defining the function to insert blank rows\n",
    "#Inserting 31 blank rows because the total number of columns containing the dates for Cash Received and...\n",
    "#...solicitor payout is 31 each\n",
    "def insert_blank_rows(df, num_blank_rows=31):\n",
    "    result_rows = []\n",
    "\n",
    "    for index, row in df.iterrows():\n",
    "        # Add the original row\n",
    "        result_rows.append(row)\n",
    "\n",
    "        # Add blank rows\n",
    "        for _ in range(num_blank_rows):\n",
    "            result_rows.append(pd.Series(index=row.index, dtype=row.dtype))\n",
    "\n",
    "    result_df = pd.DataFrame(result_rows, columns=df.columns)\n",
    "    return result_df\n",
    "\n",
    "# Inserting 31 blank rows between each row\n",
    "result_df = insert_blank_rows(df)\n",
    "\n",
    "# Save the modified DataFrame to a new CSV file\n",
    "output_csv_file = 'output_file.csv' \n",
    "result_df.to_csv(output_csv_file, index=False)\n"
   ]
  },
  {
   "cell_type": "code",
   "execution_count": 2,
   "id": "3f547cf0",
   "metadata": {},
   "outputs": [],
   "source": [
    "import pandas as pd\n",
    "#to fill the blank rows created with the non-blank row above every row\n",
    "\n",
    "# using different encodings such as 'utf-8', 'latin-1', 'ISO-8859-1' as a result of encoding error from previous trials\n",
    "encodings = ['utf-8', 'latin-1', 'ISO-8859-1']\n",
    "\n",
    "for encoding in encodings:\n",
    "    try:\n",
    "        df = pd.read_csv(r'C:\\Users\\ZETTT\\output_file.csv', encoding=encoding)\n",
    "        break  # Break the loop if reading succeeds\n",
    "    except UnicodeDecodeError:\n",
    "        continue  # Try the next encoding if decoding fails\n",
    "\n",
    "#fill blank rows\n",
    "df_filled = df.ffill()\n",
    "\n",
    "# save result in a csv file\n",
    "df_filled.to_csv('filled_file1.csv', index=False)\n"
   ]
  },
  {
   "cell_type": "code",
   "execution_count": null,
   "id": "de45cdd9",
   "metadata": {},
   "outputs": [],
   "source": [
    "#import a csv file with rows containing each month from Q1 2021 - Nov 2023\n",
    "df = pd.read_csv( r'C:\\Users\\ZETTT\\Stacked Date.csv')\n",
    "\n",
    "# stack the dates 546 times because the initial dataset before creating blank rows has 546 rows \n",
    "stacked_df = pd.concat([df]*546).reset_index(drop=True)\n",
    "\n",
    "# save output in a csv file\n",
    "stacked_df.to_csv('stacked_Date_file.csv', index=False)\n"
   ]
  },
  {
   "cell_type": "code",
   "execution_count": 4,
   "id": "593012f6",
   "metadata": {},
   "outputs": [],
   "source": [
    "\n",
    "# import csv file that contains transposed cash received columns from Q1 2021 - Nov 2023\n",
    "df = pd.read_csv(r'C:\\Users\\ZETTT\\Documents\\transposed_cash_received.csv')\n",
    "\n",
    "# transpose each row then stack on each other such that the data changes from wide to long\n",
    "\n",
    "transposed_df = df.apply(lambda x: x.repeat(1), axis=1).stack().reset_index(drop=True)\n",
    "\n",
    "# Save output to a csv file\n",
    "transposed_df.to_csv('stacked_cash_received.csv', index=False)\n",
    "\n",
    "#repeat the same process for solicitor payout \n",
    "\n",
    "df = pd.read_csv(r'C:\\Users\\ZETTT\\Documents\\transposed_solicitor_payout.csv')\n",
    "\n",
    "transposed_df = df.apply(lambda x: x.repeat(1), axis=1).stack().reset_index(drop=True)\n",
    "\n",
    "transposed_df.to_csv('stacked_solicitor_payout.csv', index=False)\n",
    "\n",
    "#merge all output csv files such that each month has its correspondiing cash received and solicitor payout\n"
   ]
  },
  {
   "cell_type": "code",
   "execution_count": 5,
   "id": "e9ee6b0e",
   "metadata": {},
   "outputs": [],
   "source": []
  },
  {
   "cell_type": "code",
   "execution_count": null,
   "id": "ffac53f7",
   "metadata": {},
   "outputs": [],
   "source": []
  }
 ],
 "metadata": {
  "kernelspec": {
   "display_name": "Python 3 (ipykernel)",
   "language": "python",
   "name": "python3"
  },
  "language_info": {
   "codemirror_mode": {
    "name": "ipython",
    "version": 3
   },
   "file_extension": ".py",
   "mimetype": "text/x-python",
   "name": "python",
   "nbconvert_exporter": "python",
   "pygments_lexer": "ipython3",
   "version": "3.11.5"
  }
 },
 "nbformat": 4,
 "nbformat_minor": 5
}
